{
 "cells": [
  {
   "cell_type": "code",
   "execution_count": 9,
   "id": "f2e07993",
   "metadata": {},
   "outputs": [],
   "source": [
    "from PIL import Image\n",
    "from PIL import ImageDraw\n",
    "from PIL import ImageFont\n",
    "im = Image.open('matchbg.jpg')\n",
    "font = ImageFont.load_default()\n",
    "Font_type = ImageFont.truetype('fonts/arial.ttf', size=50)\n",
    "draw= ImageDraw.Draw(im)\n",
    "messege = \"Something are best left unsaid!\"\n",
    "\n",
    "\n",
    "draw.text((10,300), messege, fill=(5, 0, 5), font=Font_type)\n",
    "\n",
    "\n",
    "im.show()"
   ]
  },
  {
   "cell_type": "code",
   "execution_count": null,
   "id": "e2b62a50",
   "metadata": {},
   "outputs": [],
   "source": []
  },
  {
   "cell_type": "code",
   "execution_count": null,
   "id": "bb39fd05",
   "metadata": {},
   "outputs": [],
   "source": []
  }
 ],
 "metadata": {
  "kernelspec": {
   "display_name": "Python 3",
   "language": "python",
   "name": "python3"
  },
  "language_info": {
   "codemirror_mode": {
    "name": "ipython",
    "version": 3
   },
   "file_extension": ".py",
   "mimetype": "text/x-python",
   "name": "python",
   "nbconvert_exporter": "python",
   "pygments_lexer": "ipython3",
   "version": "3.8.8"
  }
 },
 "nbformat": 4,
 "nbformat_minor": 5
}
